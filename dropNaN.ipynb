{
  "nbformat": 4,
  "nbformat_minor": 0,
  "metadata": {
    "colab": {
      "name": "dropNaN.ipynb",
      "provenance": [],
      "collapsed_sections": [],
      "include_colab_link": true
    },
    "kernelspec": {
      "name": "python3",
      "display_name": "Python 3"
    },
    "accelerator": "GPU"
  },
  "cells": [
    {
      "cell_type": "markdown",
      "metadata": {
        "id": "view-in-github",
        "colab_type": "text"
      },
      "source": [
        "<a href=\"https://colab.research.google.com/github/redtideresearchgroup/redtideresearchgroup.github.io/blob/master/dropNaN.ipynb\" target=\"_parent\"><img src=\"https://colab.research.google.com/assets/colab-badge.svg\" alt=\"Open In Colab\"/></a>"
      ]
    },
    {
      "cell_type": "markdown",
      "metadata": {
        "id": "h8nIQVEHOiyE",
        "colab_type": "text"
      },
      "source": [
        "#This started out as experimental but got good"
      ]
    },
    {
      "cell_type": "code",
      "metadata": {
        "id": "-SdLVjI0iTZa",
        "colab_type": "code",
        "colab": {}
      },
      "source": [
        "import pandas as pd\n",
        "import numpy as np\n",
        "import seaborn as sns\n",
        "from google.colab import files\n",
        "from sklearn.preprocessing import LabelEncoder\n",
        "from __future__ import absolute_import, division, print_function, unicode_literals\n",
        "import tensorflow as tf\n",
        "from tensorflow import keras\n",
        "from tensorflow.keras import layers\n",
        "\n"
      ],
      "execution_count": 0,
      "outputs": []
    },
    {
      "cell_type": "code",
      "metadata": {
        "id": "TcD4PZphiqRB",
        "colab_type": "code",
        "outputId": "740a9327-57d7-4ae2-ebe5-d5142c324283",
        "colab": {
          "resources": {
            "http://localhost:8080/nbextensions/google.colab/files.js": {
              "data": "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",
              "ok": true,
              "headers": [
                [
                  "content-type",
                  "application/javascript"
                ]
              ],
              "status": 200,
              "status_text": ""
            }
          },
          "base_uri": "https://localhost:8080/",
          "height": 74
        }
      },
      "source": [
        "uploaded = files.upload()"
      ],
      "execution_count": 0,
      "outputs": [
        {
          "output_type": "display_data",
          "data": {
            "text/html": [
              "\n",
              "     <input type=\"file\" id=\"files-532d37e3-c9a7-4e11-9b1b-79445cd39449\" name=\"files[]\" multiple disabled />\n",
              "     <output id=\"result-532d37e3-c9a7-4e11-9b1b-79445cd39449\">\n",
              "      Upload widget is only available when the cell has been executed in the\n",
              "      current browser session. Please rerun this cell to enable.\n",
              "      </output>\n",
              "      <script src=\"/nbextensions/google.colab/files.js\"></script> "
            ],
            "text/plain": [
              "<IPython.core.display.HTML object>"
            ]
          },
          "metadata": {
            "tags": []
          }
        },
        {
          "output_type": "stream",
          "text": [
            "Saving habsos_20190211.csv to habsos_20190211.csv\n"
          ],
          "name": "stdout"
        }
      ]
    },
    {
      "cell_type": "code",
      "metadata": {
        "id": "jP_Bi_iTiqUO",
        "colab_type": "code",
        "outputId": "2158d00b-c5f0-4831-c0f1-13d7e7d79eeb",
        "colab": {
          "base_uri": "https://localhost:8080/",
          "height": 51
        }
      },
      "source": [
        "df_raw = pd.read_csv('habsos_20190211.csv')"
      ],
      "execution_count": 0,
      "outputs": [
        {
          "output_type": "stream",
          "text": [
            "/usr/local/lib/python3.6/dist-packages/IPython/core/interactiveshell.py:2718: DtypeWarning: Columns (20,23) have mixed types. Specify dtype option on import or set low_memory=False.\n",
            "  interactivity=interactivity, compiler=compiler, result=result)\n"
          ],
          "name": "stderr"
        }
      ]
    },
    {
      "cell_type": "code",
      "metadata": {
        "id": "Vdtmz3bqKYPh",
        "colab_type": "code",
        "outputId": "6eee5126-55cf-4aae-9fb2-77e9ad03b7fa",
        "colab": {
          "base_uri": "https://localhost:8080/",
          "height": 476
        }
      },
      "source": [
        "df_raw.dtypes"
      ],
      "execution_count": 0,
      "outputs": [
        {
          "output_type": "execute_result",
          "data": {
            "text/plain": [
              "objectid             int64\n",
              "description         object\n",
              "latitude           float64\n",
              "longitude          float64\n",
              "state_id            object\n",
              "sample_date         object\n",
              "sample_depth       float64\n",
              "genus               object\n",
              "species             object\n",
              "category            object\n",
              "cellcount          float64\n",
              "cellcount_unit      object\n",
              "cellcount_qa         int64\n",
              "salinity           float64\n",
              "salinity_unit       object\n",
              "salinity_qa          int64\n",
              "water_temp         float64\n",
              "water_temp_unit     object\n",
              "water_temp_qa        int64\n",
              "wind_dir           float64\n",
              "wind_dir_unit       object\n",
              "wind_dir_qa          int64\n",
              "wind_speed         float64\n",
              "wind_speed_unit     object\n",
              "wind_speed_qa        int64\n",
              "qa_comment          object\n",
              "dtype: object"
            ]
          },
          "metadata": {
            "tags": []
          },
          "execution_count": 6
        }
      ]
    },
    {
      "cell_type": "code",
      "metadata": {
        "id": "A2AqGvwnCdcp",
        "colab_type": "code",
        "colab": {}
      },
      "source": [
        "#df_raw = df_raw.drop(102562)"
      ],
      "execution_count": 0,
      "outputs": []
    },
    {
      "cell_type": "code",
      "metadata": {
        "id": "b8W2wN5BD5uZ",
        "colab_type": "code",
        "colab": {}
      },
      "source": [
        "#df_raw = df_raw.drop(102563)"
      ],
      "execution_count": 0,
      "outputs": []
    },
    {
      "cell_type": "code",
      "metadata": {
        "id": "koQwb3VGLHDg",
        "colab_type": "code",
        "colab": {}
      },
      "source": [
        "df_raw=df_raw.iloc[1:]"
      ],
      "execution_count": 0,
      "outputs": []
    },
    {
      "cell_type": "code",
      "metadata": {
        "id": "XvErCmb1lTpF",
        "colab_type": "code",
        "outputId": "6f5391ae-38c8-43f8-dc1b-a37334e85f70",
        "colab": {
          "base_uri": "https://localhost:8080/",
          "height": 34
        }
      },
      "source": [
        "df_raw.shape"
      ],
      "execution_count": 0,
      "outputs": [
        {
          "output_type": "execute_result",
          "data": {
            "text/plain": [
              "(159736, 26)"
            ]
          },
          "metadata": {
            "tags": []
          },
          "execution_count": 10
        }
      ]
    },
    {
      "cell_type": "code",
      "metadata": {
        "id": "-S0l9kO3oZ6Y",
        "colab_type": "code",
        "colab": {}
      },
      "source": [
        "df_raw['sample_date'] = pd.to_datetime(df_raw.sample_date)"
      ],
      "execution_count": 0,
      "outputs": []
    },
    {
      "cell_type": "code",
      "metadata": {
        "id": "wkgIfRF1qW40",
        "colab_type": "code",
        "outputId": "3c0abb70-6d07-4e6b-b9ef-abfaa02bfee5",
        "colab": {
          "base_uri": "https://localhost:8080/",
          "height": 476
        }
      },
      "source": [
        "df_raw.dtypes"
      ],
      "execution_count": 0,
      "outputs": [
        {
          "output_type": "execute_result",
          "data": {
            "text/plain": [
              "objectid                    int64\n",
              "description                object\n",
              "latitude                  float64\n",
              "longitude                 float64\n",
              "state_id                   object\n",
              "sample_date        datetime64[ns]\n",
              "sample_depth              float64\n",
              "genus                      object\n",
              "species                    object\n",
              "category                   object\n",
              "cellcount                 float64\n",
              "cellcount_unit             object\n",
              "cellcount_qa                int64\n",
              "salinity                  float64\n",
              "salinity_unit              object\n",
              "salinity_qa                 int64\n",
              "water_temp                float64\n",
              "water_temp_unit            object\n",
              "water_temp_qa               int64\n",
              "wind_dir                  float64\n",
              "wind_dir_unit              object\n",
              "wind_dir_qa                 int64\n",
              "wind_speed                float64\n",
              "wind_speed_unit            object\n",
              "wind_speed_qa               int64\n",
              "qa_comment                 object\n",
              "dtype: object"
            ]
          },
          "metadata": {
            "tags": []
          },
          "execution_count": 12
        }
      ]
    },
    {
      "cell_type": "markdown",
      "metadata": {
        "id": "V23UoZP5rbk9",
        "colab_type": "text"
      },
      "source": [
        "**Use datetime to extract year/month/date columns as well as seasons**"
      ]
    },
    {
      "cell_type": "code",
      "metadata": {
        "id": "6w4gsf8Uracd",
        "colab_type": "code",
        "colab": {}
      },
      "source": [
        "df_raw['year'] = pd.DatetimeIndex(df_raw['sample_date']).year\n",
        "df_raw['month'] = pd.DatetimeIndex(df_raw['sample_date']).month\n",
        "df_raw['day'] = pd.DatetimeIndex(df_raw['sample_date']).day\n",
        "df_raw['dayofyear'] = pd.DatetimeIndex(df_raw['sample_date']).dayofyear\n",
        "df_raw['time'] = pd.DatetimeIndex(df_raw['sample_date']).time"
      ],
      "execution_count": 0,
      "outputs": []
    },
    {
      "cell_type": "code",
      "metadata": {
        "id": "Ohp7dkPuiqXn",
        "colab_type": "code",
        "outputId": "c942c64b-7e38-488e-c35d-946ae1b6594e",
        "colab": {
          "base_uri": "https://localhost:8080/",
          "height": 544
        }
      },
      "source": [
        "list(df_raw)"
      ],
      "execution_count": 0,
      "outputs": [
        {
          "output_type": "execute_result",
          "data": {
            "text/plain": [
              "['objectid',\n",
              " 'description',\n",
              " 'latitude',\n",
              " 'longitude',\n",
              " 'state_id',\n",
              " 'sample_date',\n",
              " 'sample_depth',\n",
              " 'genus',\n",
              " 'species',\n",
              " 'category',\n",
              " 'cellcount',\n",
              " 'cellcount_unit',\n",
              " 'cellcount_qa',\n",
              " 'salinity',\n",
              " 'salinity_unit',\n",
              " 'salinity_qa',\n",
              " 'water_temp',\n",
              " 'water_temp_unit',\n",
              " 'water_temp_qa',\n",
              " 'wind_dir',\n",
              " 'wind_dir_unit',\n",
              " 'wind_dir_qa',\n",
              " 'wind_speed',\n",
              " 'wind_speed_unit',\n",
              " 'wind_speed_qa',\n",
              " 'qa_comment',\n",
              " 'year',\n",
              " 'month',\n",
              " 'day',\n",
              " 'dayofyear',\n",
              " 'time']"
            ]
          },
          "metadata": {
            "tags": []
          },
          "execution_count": 15
        }
      ]
    },
    {
      "cell_type": "code",
      "metadata": {
        "id": "x8bRZh8Piqat",
        "colab_type": "code",
        "colab": {}
      },
      "source": [
        "df_edit1 = df_raw.drop(['objectid',\n",
        " 'description',\n",
        " #'latitude',\n",
        " #'longitude',\n",
        " 'state_id',\n",
        " 'sample_date',\n",
        " #'sample_depth',\n",
        " 'genus',\n",
        " 'species',\n",
        " #'category',\n",
        " 'cellcount',\n",
        " 'cellcount_unit',\n",
        " 'cellcount_qa',\n",
        " #'salinity',\n",
        " 'salinity_unit',\n",
        " 'salinity_qa',\n",
        " #'water_temp',\n",
        " 'water_temp_unit',\n",
        " 'water_temp_qa',\n",
        " 'wind_dir',\n",
        " 'wind_dir_unit',\n",
        " 'wind_dir_qa',\n",
        " 'wind_speed',\n",
        " 'wind_speed_unit',\n",
        " 'wind_speed_qa',\n",
        " 'qa_comment',\n",
        " #'year',\n",
        " 'month',\n",
        " 'day',\n",
        " #'dayofyear',\n",
        " 'time'], axis=1)"
      ],
      "execution_count": 0,
      "outputs": []
    },
    {
      "cell_type": "code",
      "metadata": {
        "id": "_DQd5BpaiqeF",
        "colab_type": "code",
        "outputId": "a1de1ad3-a1eb-4773-adf6-de78a050876c",
        "colab": {
          "base_uri": "https://localhost:8080/",
          "height": 204
        }
      },
      "source": [
        "df_edit1.head()"
      ],
      "execution_count": 0,
      "outputs": [
        {
          "output_type": "execute_result",
          "data": {
            "text/html": [
              "<div>\n",
              "<style scoped>\n",
              "    .dataframe tbody tr th:only-of-type {\n",
              "        vertical-align: middle;\n",
              "    }\n",
              "\n",
              "    .dataframe tbody tr th {\n",
              "        vertical-align: top;\n",
              "    }\n",
              "\n",
              "    .dataframe thead th {\n",
              "        text-align: right;\n",
              "    }\n",
              "</style>\n",
              "<table border=\"1\" class=\"dataframe\">\n",
              "  <thead>\n",
              "    <tr style=\"text-align: right;\">\n",
              "      <th></th>\n",
              "      <th>latitude</th>\n",
              "      <th>longitude</th>\n",
              "      <th>sample_depth</th>\n",
              "      <th>category</th>\n",
              "      <th>salinity</th>\n",
              "      <th>water_temp</th>\n",
              "      <th>year</th>\n",
              "      <th>dayofyear</th>\n",
              "    </tr>\n",
              "  </thead>\n",
              "  <tbody>\n",
              "    <tr>\n",
              "      <th>1</th>\n",
              "      <td>26.9345</td>\n",
              "      <td>-82.3535</td>\n",
              "      <td>0.5</td>\n",
              "      <td>medium</td>\n",
              "      <td>NaN</td>\n",
              "      <td>NaN</td>\n",
              "      <td>1953</td>\n",
              "      <td>231</td>\n",
              "    </tr>\n",
              "    <tr>\n",
              "      <th>2</th>\n",
              "      <td>27.4684</td>\n",
              "      <td>-82.6937</td>\n",
              "      <td>0.5</td>\n",
              "      <td>medium</td>\n",
              "      <td>NaN</td>\n",
              "      <td>NaN</td>\n",
              "      <td>1953</td>\n",
              "      <td>238</td>\n",
              "    </tr>\n",
              "    <tr>\n",
              "      <th>3</th>\n",
              "      <td>26.1324</td>\n",
              "      <td>-81.8069</td>\n",
              "      <td>0.5</td>\n",
              "      <td>not observed</td>\n",
              "      <td>NaN</td>\n",
              "      <td>NaN</td>\n",
              "      <td>1953</td>\n",
              "      <td>238</td>\n",
              "    </tr>\n",
              "    <tr>\n",
              "      <th>4</th>\n",
              "      <td>26.5334</td>\n",
              "      <td>-81.9796</td>\n",
              "      <td>0.5</td>\n",
              "      <td>not observed</td>\n",
              "      <td>NaN</td>\n",
              "      <td>NaN</td>\n",
              "      <td>1953</td>\n",
              "      <td>238</td>\n",
              "    </tr>\n",
              "    <tr>\n",
              "      <th>5</th>\n",
              "      <td>27.4894</td>\n",
              "      <td>-83.1205</td>\n",
              "      <td>0.5</td>\n",
              "      <td>not observed</td>\n",
              "      <td>NaN</td>\n",
              "      <td>NaN</td>\n",
              "      <td>1953</td>\n",
              "      <td>246</td>\n",
              "    </tr>\n",
              "  </tbody>\n",
              "</table>\n",
              "</div>"
            ],
            "text/plain": [
              "   latitude  longitude  sample_depth  ... water_temp  year  dayofyear\n",
              "1   26.9345   -82.3535           0.5  ...        NaN  1953        231\n",
              "2   27.4684   -82.6937           0.5  ...        NaN  1953        238\n",
              "3   26.1324   -81.8069           0.5  ...        NaN  1953        238\n",
              "4   26.5334   -81.9796           0.5  ...        NaN  1953        238\n",
              "5   27.4894   -83.1205           0.5  ...        NaN  1953        246\n",
              "\n",
              "[5 rows x 8 columns]"
            ]
          },
          "metadata": {
            "tags": []
          },
          "execution_count": 20
        }
      ]
    },
    {
      "cell_type": "code",
      "metadata": {
        "id": "Y9_z5DfKmraX",
        "colab_type": "code",
        "outputId": "7c78ab7d-c46f-4ce0-f9c0-2e4b0cee1324",
        "colab": {
          "base_uri": "https://localhost:8080/",
          "height": 255
        }
      },
      "source": [
        "df_edit1.describe"
      ],
      "execution_count": 0,
      "outputs": [
        {
          "output_type": "execute_result",
          "data": {
            "text/plain": [
              "<bound method NDFrame.describe of         latitude  longitude  sample_depth  ... water_temp  year  dayofyear\n",
              "1       26.93450  -82.35350           0.5  ...        NaN  1953        231\n",
              "2       27.46840  -82.69370           0.5  ...        NaN  1953        238\n",
              "3       26.13240  -81.80690           0.5  ...        NaN  1953        238\n",
              "4       26.53340  -81.97960           0.5  ...        NaN  1953        238\n",
              "5       27.48940  -83.12050           0.5  ...        NaN  1953        246\n",
              "...          ...        ...           ...  ...        ...   ...        ...\n",
              "159732  30.22422  -85.71397           0.5  ...        NaN  2019         38\n",
              "159733  25.91165  -81.72805           0.5  ...       20.9  2019         38\n",
              "159734  26.33470  -80.07171           0.5  ...        NaN  2019         38\n",
              "159735  27.33375  -82.57938           0.5  ...        NaN  2019         38\n",
              "159736  27.33160  -82.57790           0.5  ...        NaN  2019         38\n",
              "\n",
              "[159736 rows x 8 columns]>"
            ]
          },
          "metadata": {
            "tags": []
          },
          "execution_count": 21
        }
      ]
    },
    {
      "cell_type": "code",
      "metadata": {
        "id": "BM0n5bv5mw8r",
        "colab_type": "code",
        "colab": {}
      },
      "source": [
        "df_edit2=df_edit1.dropna()"
      ],
      "execution_count": 0,
      "outputs": []
    },
    {
      "cell_type": "code",
      "metadata": {
        "id": "OcMFPc-Qn8NL",
        "colab_type": "code",
        "outputId": "7e90fa9c-d6ef-441c-94e1-2c0cffe758f8",
        "colab": {
          "base_uri": "https://localhost:8080/",
          "height": 419
        }
      },
      "source": [
        "df_edit2.reset_index(drop=True)"
      ],
      "execution_count": 0,
      "outputs": [
        {
          "output_type": "execute_result",
          "data": {
            "text/html": [
              "<div>\n",
              "<style scoped>\n",
              "    .dataframe tbody tr th:only-of-type {\n",
              "        vertical-align: middle;\n",
              "    }\n",
              "\n",
              "    .dataframe tbody tr th {\n",
              "        vertical-align: top;\n",
              "    }\n",
              "\n",
              "    .dataframe thead th {\n",
              "        text-align: right;\n",
              "    }\n",
              "</style>\n",
              "<table border=\"1\" class=\"dataframe\">\n",
              "  <thead>\n",
              "    <tr style=\"text-align: right;\">\n",
              "      <th></th>\n",
              "      <th>latitude</th>\n",
              "      <th>longitude</th>\n",
              "      <th>sample_depth</th>\n",
              "      <th>category</th>\n",
              "      <th>salinity</th>\n",
              "      <th>water_temp</th>\n",
              "      <th>year</th>\n",
              "      <th>dayofyear</th>\n",
              "    </tr>\n",
              "  </thead>\n",
              "  <tbody>\n",
              "    <tr>\n",
              "      <th>0</th>\n",
              "      <td>27.21670</td>\n",
              "      <td>-82.54170</td>\n",
              "      <td>0.5</td>\n",
              "      <td>not observed</td>\n",
              "      <td>34.50</td>\n",
              "      <td>18.00</td>\n",
              "      <td>1954</td>\n",
              "      <td>36</td>\n",
              "    </tr>\n",
              "    <tr>\n",
              "      <th>1</th>\n",
              "      <td>27.15000</td>\n",
              "      <td>-82.50830</td>\n",
              "      <td>0.5</td>\n",
              "      <td>not observed</td>\n",
              "      <td>34.60</td>\n",
              "      <td>18.20</td>\n",
              "      <td>1954</td>\n",
              "      <td>36</td>\n",
              "    </tr>\n",
              "    <tr>\n",
              "      <th>2</th>\n",
              "      <td>27.35330</td>\n",
              "      <td>-82.64500</td>\n",
              "      <td>0.5</td>\n",
              "      <td>not observed</td>\n",
              "      <td>34.00</td>\n",
              "      <td>18.50</td>\n",
              "      <td>1954</td>\n",
              "      <td>36</td>\n",
              "    </tr>\n",
              "    <tr>\n",
              "      <th>3</th>\n",
              "      <td>27.34170</td>\n",
              "      <td>-82.71670</td>\n",
              "      <td>0.5</td>\n",
              "      <td>not observed</td>\n",
              "      <td>34.20</td>\n",
              "      <td>18.50</td>\n",
              "      <td>1954</td>\n",
              "      <td>36</td>\n",
              "    </tr>\n",
              "    <tr>\n",
              "      <th>4</th>\n",
              "      <td>27.30830</td>\n",
              "      <td>-82.59670</td>\n",
              "      <td>0.5</td>\n",
              "      <td>not observed</td>\n",
              "      <td>34.00</td>\n",
              "      <td>18.60</td>\n",
              "      <td>1954</td>\n",
              "      <td>36</td>\n",
              "    </tr>\n",
              "    <tr>\n",
              "      <th>...</th>\n",
              "      <td>...</td>\n",
              "      <td>...</td>\n",
              "      <td>...</td>\n",
              "      <td>...</td>\n",
              "      <td>...</td>\n",
              "      <td>...</td>\n",
              "      <td>...</td>\n",
              "      <td>...</td>\n",
              "    </tr>\n",
              "    <tr>\n",
              "      <th>66155</th>\n",
              "      <td>29.79843</td>\n",
              "      <td>-85.30468</td>\n",
              "      <td>0.1</td>\n",
              "      <td>not observed</td>\n",
              "      <td>27.43</td>\n",
              "      <td>16.30</td>\n",
              "      <td>2019</td>\n",
              "      <td>37</td>\n",
              "    </tr>\n",
              "    <tr>\n",
              "      <th>66156</th>\n",
              "      <td>30.42320</td>\n",
              "      <td>-86.18300</td>\n",
              "      <td>0.5</td>\n",
              "      <td>not observed</td>\n",
              "      <td>1.91</td>\n",
              "      <td>15.80</td>\n",
              "      <td>2019</td>\n",
              "      <td>37</td>\n",
              "    </tr>\n",
              "    <tr>\n",
              "      <th>66157</th>\n",
              "      <td>30.40940</td>\n",
              "      <td>-86.14530</td>\n",
              "      <td>0.5</td>\n",
              "      <td>not observed</td>\n",
              "      <td>0.09</td>\n",
              "      <td>15.70</td>\n",
              "      <td>2019</td>\n",
              "      <td>37</td>\n",
              "    </tr>\n",
              "    <tr>\n",
              "      <th>66158</th>\n",
              "      <td>30.35153</td>\n",
              "      <td>-86.25118</td>\n",
              "      <td>0.5</td>\n",
              "      <td>not observed</td>\n",
              "      <td>29.20</td>\n",
              "      <td>18.08</td>\n",
              "      <td>2019</td>\n",
              "      <td>37</td>\n",
              "    </tr>\n",
              "    <tr>\n",
              "      <th>66159</th>\n",
              "      <td>26.25375</td>\n",
              "      <td>-81.82377</td>\n",
              "      <td>0.5</td>\n",
              "      <td>not observed</td>\n",
              "      <td>0.00</td>\n",
              "      <td>19.40</td>\n",
              "      <td>2019</td>\n",
              "      <td>38</td>\n",
              "    </tr>\n",
              "  </tbody>\n",
              "</table>\n",
              "<p>66160 rows × 8 columns</p>\n",
              "</div>"
            ],
            "text/plain": [
              "       latitude  longitude  sample_depth  ... water_temp  year  dayofyear\n",
              "0      27.21670  -82.54170           0.5  ...      18.00  1954         36\n",
              "1      27.15000  -82.50830           0.5  ...      18.20  1954         36\n",
              "2      27.35330  -82.64500           0.5  ...      18.50  1954         36\n",
              "3      27.34170  -82.71670           0.5  ...      18.50  1954         36\n",
              "4      27.30830  -82.59670           0.5  ...      18.60  1954         36\n",
              "...         ...        ...           ...  ...        ...   ...        ...\n",
              "66155  29.79843  -85.30468           0.1  ...      16.30  2019         37\n",
              "66156  30.42320  -86.18300           0.5  ...      15.80  2019         37\n",
              "66157  30.40940  -86.14530           0.5  ...      15.70  2019         37\n",
              "66158  30.35153  -86.25118           0.5  ...      18.08  2019         37\n",
              "66159  26.25375  -81.82377           0.5  ...      19.40  2019         38\n",
              "\n",
              "[66160 rows x 8 columns]"
            ]
          },
          "metadata": {
            "tags": []
          },
          "execution_count": 23
        }
      ]
    },
    {
      "cell_type": "code",
      "metadata": {
        "id": "5E93kwhJmxMF",
        "colab_type": "code",
        "outputId": "38183444-228f-4f5f-8d6d-6e999ba6c7ca",
        "colab": {
          "base_uri": "https://localhost:8080/",
          "height": 153
        }
      },
      "source": [
        "for col in df_edit2.columns: #Whats in the data\n",
        "  print(col, ': ', len(df_edit2[col].unique()), 'labels')"
      ],
      "execution_count": 0,
      "outputs": [
        {
          "output_type": "stream",
          "text": [
            "latitude :  7668 labels\n",
            "longitude :  7678 labels\n",
            "sample_depth :  448 labels\n",
            "category :  5 labels\n",
            "salinity :  3463 labels\n",
            "water_temp :  1886 labels\n",
            "year :  65 labels\n",
            "dayofyear :  366 labels\n"
          ],
          "name": "stdout"
        }
      ]
    },
    {
      "cell_type": "code",
      "metadata": {
        "id": "mpLJldubmxXj",
        "colab_type": "code",
        "colab": {}
      },
      "source": [
        "df_new = df_edit2"
      ],
      "execution_count": 0,
      "outputs": []
    },
    {
      "cell_type": "markdown",
      "metadata": {
        "id": "ngsXmOVORwR1",
        "colab_type": "text"
      },
      "source": [
        "**Here we need to one hot encode the data OR label encoding**"
      ]
    },
    {
      "cell_type": "code",
      "metadata": {
        "id": "b2GJ45Np-IIo",
        "colab_type": "code",
        "colab": {}
      },
      "source": [
        "le = LabelEncoder()\n",
        "label = le.fit_transform(df_new['category'])"
      ],
      "execution_count": 0,
      "outputs": []
    },
    {
      "cell_type": "code",
      "metadata": {
        "id": "SXdr7agd-7wz",
        "colab_type": "code",
        "outputId": "9b1079cb-9ff2-427a-9d07-97a9032eb6d8",
        "colab": {
          "base_uri": "https://localhost:8080/",
          "height": 34
        }
      },
      "source": [
        "label"
      ],
      "execution_count": 0,
      "outputs": [
        {
          "output_type": "execute_result",
          "data": {
            "text/plain": [
              "array([3, 3, 3, ..., 3, 3, 3])"
            ]
          },
          "metadata": {
            "tags": []
          },
          "execution_count": 27
        }
      ]
    },
    {
      "cell_type": "code",
      "metadata": {
        "id": "2rE0aAAh_Au1",
        "colab_type": "code",
        "outputId": "781305ed-e157-4e6a-91af-71e7ff83a197",
        "colab": {
          "base_uri": "https://localhost:8080/",
          "height": 34
        }
      },
      "source": [
        "le.classes_"
      ],
      "execution_count": 0,
      "outputs": [
        {
          "output_type": "execute_result",
          "data": {
            "text/plain": [
              "array(['high', 'low', 'medium', 'not observed', 'very low'], dtype=object)"
            ]
          },
          "metadata": {
            "tags": []
          },
          "execution_count": 28
        }
      ]
    },
    {
      "cell_type": "code",
      "metadata": {
        "id": "VvSu3aL__SWo",
        "colab_type": "code",
        "colab": {}
      },
      "source": [
        "df_new = df_new.drop('category', axis='columns')"
      ],
      "execution_count": 0,
      "outputs": []
    },
    {
      "cell_type": "code",
      "metadata": {
        "id": "qLUk-h1D_ShP",
        "colab_type": "code",
        "outputId": "58a2673f-2b63-435e-aeb6-b6e8fb3f8ff5",
        "colab": {
          "base_uri": "https://localhost:8080/",
          "height": 204
        }
      },
      "source": [
        "df_new.head()"
      ],
      "execution_count": 0,
      "outputs": [
        {
          "output_type": "execute_result",
          "data": {
            "text/html": [
              "<div>\n",
              "<style scoped>\n",
              "    .dataframe tbody tr th:only-of-type {\n",
              "        vertical-align: middle;\n",
              "    }\n",
              "\n",
              "    .dataframe tbody tr th {\n",
              "        vertical-align: top;\n",
              "    }\n",
              "\n",
              "    .dataframe thead th {\n",
              "        text-align: right;\n",
              "    }\n",
              "</style>\n",
              "<table border=\"1\" class=\"dataframe\">\n",
              "  <thead>\n",
              "    <tr style=\"text-align: right;\">\n",
              "      <th></th>\n",
              "      <th>latitude</th>\n",
              "      <th>longitude</th>\n",
              "      <th>sample_depth</th>\n",
              "      <th>salinity</th>\n",
              "      <th>water_temp</th>\n",
              "      <th>year</th>\n",
              "      <th>dayofyear</th>\n",
              "    </tr>\n",
              "  </thead>\n",
              "  <tbody>\n",
              "    <tr>\n",
              "      <th>20</th>\n",
              "      <td>27.2167</td>\n",
              "      <td>-82.5417</td>\n",
              "      <td>0.5</td>\n",
              "      <td>34.5</td>\n",
              "      <td>18.0</td>\n",
              "      <td>1954</td>\n",
              "      <td>36</td>\n",
              "    </tr>\n",
              "    <tr>\n",
              "      <th>21</th>\n",
              "      <td>27.1500</td>\n",
              "      <td>-82.5083</td>\n",
              "      <td>0.5</td>\n",
              "      <td>34.6</td>\n",
              "      <td>18.2</td>\n",
              "      <td>1954</td>\n",
              "      <td>36</td>\n",
              "    </tr>\n",
              "    <tr>\n",
              "      <th>22</th>\n",
              "      <td>27.3533</td>\n",
              "      <td>-82.6450</td>\n",
              "      <td>0.5</td>\n",
              "      <td>34.0</td>\n",
              "      <td>18.5</td>\n",
              "      <td>1954</td>\n",
              "      <td>36</td>\n",
              "    </tr>\n",
              "    <tr>\n",
              "      <th>23</th>\n",
              "      <td>27.3417</td>\n",
              "      <td>-82.7167</td>\n",
              "      <td>0.5</td>\n",
              "      <td>34.2</td>\n",
              "      <td>18.5</td>\n",
              "      <td>1954</td>\n",
              "      <td>36</td>\n",
              "    </tr>\n",
              "    <tr>\n",
              "      <th>24</th>\n",
              "      <td>27.3083</td>\n",
              "      <td>-82.5967</td>\n",
              "      <td>0.5</td>\n",
              "      <td>34.0</td>\n",
              "      <td>18.6</td>\n",
              "      <td>1954</td>\n",
              "      <td>36</td>\n",
              "    </tr>\n",
              "  </tbody>\n",
              "</table>\n",
              "</div>"
            ],
            "text/plain": [
              "    latitude  longitude  sample_depth  salinity  water_temp  year  dayofyear\n",
              "20   27.2167   -82.5417           0.5      34.5        18.0  1954         36\n",
              "21   27.1500   -82.5083           0.5      34.6        18.2  1954         36\n",
              "22   27.3533   -82.6450           0.5      34.0        18.5  1954         36\n",
              "23   27.3417   -82.7167           0.5      34.2        18.5  1954         36\n",
              "24   27.3083   -82.5967           0.5      34.0        18.6  1954         36"
            ]
          },
          "metadata": {
            "tags": []
          },
          "execution_count": 30
        }
      ]
    },
    {
      "cell_type": "code",
      "metadata": {
        "id": "d2b1pz7w_1zT",
        "colab_type": "code",
        "colab": {}
      },
      "source": [
        "df_new['category']= label"
      ],
      "execution_count": 0,
      "outputs": []
    },
    {
      "cell_type": "code",
      "metadata": {
        "id": "AxedH23-AG63",
        "colab_type": "code",
        "outputId": "8fe32433-ad2a-4f30-f2cc-01959ae27964",
        "colab": {
          "base_uri": "https://localhost:8080/",
          "height": 419
        }
      },
      "source": [
        "df_new"
      ],
      "execution_count": 0,
      "outputs": [
        {
          "output_type": "execute_result",
          "data": {
            "text/html": [
              "<div>\n",
              "<style scoped>\n",
              "    .dataframe tbody tr th:only-of-type {\n",
              "        vertical-align: middle;\n",
              "    }\n",
              "\n",
              "    .dataframe tbody tr th {\n",
              "        vertical-align: top;\n",
              "    }\n",
              "\n",
              "    .dataframe thead th {\n",
              "        text-align: right;\n",
              "    }\n",
              "</style>\n",
              "<table border=\"1\" class=\"dataframe\">\n",
              "  <thead>\n",
              "    <tr style=\"text-align: right;\">\n",
              "      <th></th>\n",
              "      <th>latitude</th>\n",
              "      <th>longitude</th>\n",
              "      <th>sample_depth</th>\n",
              "      <th>salinity</th>\n",
              "      <th>water_temp</th>\n",
              "      <th>year</th>\n",
              "      <th>dayofyear</th>\n",
              "      <th>category</th>\n",
              "    </tr>\n",
              "  </thead>\n",
              "  <tbody>\n",
              "    <tr>\n",
              "      <th>20</th>\n",
              "      <td>27.21670</td>\n",
              "      <td>-82.54170</td>\n",
              "      <td>0.5</td>\n",
              "      <td>34.50</td>\n",
              "      <td>18.00</td>\n",
              "      <td>1954</td>\n",
              "      <td>36</td>\n",
              "      <td>3</td>\n",
              "    </tr>\n",
              "    <tr>\n",
              "      <th>21</th>\n",
              "      <td>27.15000</td>\n",
              "      <td>-82.50830</td>\n",
              "      <td>0.5</td>\n",
              "      <td>34.60</td>\n",
              "      <td>18.20</td>\n",
              "      <td>1954</td>\n",
              "      <td>36</td>\n",
              "      <td>3</td>\n",
              "    </tr>\n",
              "    <tr>\n",
              "      <th>22</th>\n",
              "      <td>27.35330</td>\n",
              "      <td>-82.64500</td>\n",
              "      <td>0.5</td>\n",
              "      <td>34.00</td>\n",
              "      <td>18.50</td>\n",
              "      <td>1954</td>\n",
              "      <td>36</td>\n",
              "      <td>3</td>\n",
              "    </tr>\n",
              "    <tr>\n",
              "      <th>23</th>\n",
              "      <td>27.34170</td>\n",
              "      <td>-82.71670</td>\n",
              "      <td>0.5</td>\n",
              "      <td>34.20</td>\n",
              "      <td>18.50</td>\n",
              "      <td>1954</td>\n",
              "      <td>36</td>\n",
              "      <td>3</td>\n",
              "    </tr>\n",
              "    <tr>\n",
              "      <th>24</th>\n",
              "      <td>27.30830</td>\n",
              "      <td>-82.59670</td>\n",
              "      <td>0.5</td>\n",
              "      <td>34.00</td>\n",
              "      <td>18.60</td>\n",
              "      <td>1954</td>\n",
              "      <td>36</td>\n",
              "      <td>3</td>\n",
              "    </tr>\n",
              "    <tr>\n",
              "      <th>...</th>\n",
              "      <td>...</td>\n",
              "      <td>...</td>\n",
              "      <td>...</td>\n",
              "      <td>...</td>\n",
              "      <td>...</td>\n",
              "      <td>...</td>\n",
              "      <td>...</td>\n",
              "      <td>...</td>\n",
              "    </tr>\n",
              "    <tr>\n",
              "      <th>159708</th>\n",
              "      <td>29.79843</td>\n",
              "      <td>-85.30468</td>\n",
              "      <td>0.1</td>\n",
              "      <td>27.43</td>\n",
              "      <td>16.30</td>\n",
              "      <td>2019</td>\n",
              "      <td>37</td>\n",
              "      <td>3</td>\n",
              "    </tr>\n",
              "    <tr>\n",
              "      <th>159710</th>\n",
              "      <td>30.42320</td>\n",
              "      <td>-86.18300</td>\n",
              "      <td>0.5</td>\n",
              "      <td>1.91</td>\n",
              "      <td>15.80</td>\n",
              "      <td>2019</td>\n",
              "      <td>37</td>\n",
              "      <td>3</td>\n",
              "    </tr>\n",
              "    <tr>\n",
              "      <th>159712</th>\n",
              "      <td>30.40940</td>\n",
              "      <td>-86.14530</td>\n",
              "      <td>0.5</td>\n",
              "      <td>0.09</td>\n",
              "      <td>15.70</td>\n",
              "      <td>2019</td>\n",
              "      <td>37</td>\n",
              "      <td>3</td>\n",
              "    </tr>\n",
              "    <tr>\n",
              "      <th>159714</th>\n",
              "      <td>30.35153</td>\n",
              "      <td>-86.25118</td>\n",
              "      <td>0.5</td>\n",
              "      <td>29.20</td>\n",
              "      <td>18.08</td>\n",
              "      <td>2019</td>\n",
              "      <td>37</td>\n",
              "      <td>3</td>\n",
              "    </tr>\n",
              "    <tr>\n",
              "      <th>159728</th>\n",
              "      <td>26.25375</td>\n",
              "      <td>-81.82377</td>\n",
              "      <td>0.5</td>\n",
              "      <td>0.00</td>\n",
              "      <td>19.40</td>\n",
              "      <td>2019</td>\n",
              "      <td>38</td>\n",
              "      <td>3</td>\n",
              "    </tr>\n",
              "  </tbody>\n",
              "</table>\n",
              "<p>66160 rows × 8 columns</p>\n",
              "</div>"
            ],
            "text/plain": [
              "        latitude  longitude  sample_depth  ...  year  dayofyear  category\n",
              "20      27.21670  -82.54170           0.5  ...  1954         36         3\n",
              "21      27.15000  -82.50830           0.5  ...  1954         36         3\n",
              "22      27.35330  -82.64500           0.5  ...  1954         36         3\n",
              "23      27.34170  -82.71670           0.5  ...  1954         36         3\n",
              "24      27.30830  -82.59670           0.5  ...  1954         36         3\n",
              "...          ...        ...           ...  ...   ...        ...       ...\n",
              "159708  29.79843  -85.30468           0.1  ...  2019         37         3\n",
              "159710  30.42320  -86.18300           0.5  ...  2019         37         3\n",
              "159712  30.40940  -86.14530           0.5  ...  2019         37         3\n",
              "159714  30.35153  -86.25118           0.5  ...  2019         37         3\n",
              "159728  26.25375  -81.82377           0.5  ...  2019         38         3\n",
              "\n",
              "[66160 rows x 8 columns]"
            ]
          },
          "metadata": {
            "tags": []
          },
          "execution_count": 32
        }
      ]
    },
    {
      "cell_type": "code",
      "metadata": {
        "id": "_IUHBlVFmxm3",
        "colab_type": "code",
        "colab": {}
      },
      "source": [
        "x=df_new.drop('category', axis=1)"
      ],
      "execution_count": 0,
      "outputs": []
    },
    {
      "cell_type": "code",
      "metadata": {
        "id": "shCfBP6ULNrB",
        "colab_type": "code",
        "colab": {}
      },
      "source": [
        "y=df_new.category"
      ],
      "execution_count": 0,
      "outputs": []
    },
    {
      "cell_type": "code",
      "metadata": {
        "id": "LHlzs6_dxUsG",
        "colab_type": "code",
        "colab": {}
      },
      "source": [
        "from sklearn.model_selection import train_test_split"
      ],
      "execution_count": 0,
      "outputs": []
    },
    {
      "cell_type": "code",
      "metadata": {
        "id": "7CPRKCD8mxtW",
        "colab_type": "code",
        "colab": {}
      },
      "source": [
        "x_train,x_test,y_train,y_test=train_test_split(x,y,test_size=0.25)"
      ],
      "execution_count": 0,
      "outputs": []
    },
    {
      "cell_type": "code",
      "metadata": {
        "id": "hzSutP7KmxxT",
        "colab_type": "code",
        "outputId": "ccbc6a0f-ebb4-41ec-f20a-e72cd0c02884",
        "colab": {
          "base_uri": "https://localhost:8080/",
          "height": 204
        }
      },
      "source": [
        "x_train.head()"
      ],
      "execution_count": 0,
      "outputs": [
        {
          "output_type": "execute_result",
          "data": {
            "text/html": [
              "<div>\n",
              "<style scoped>\n",
              "    .dataframe tbody tr th:only-of-type {\n",
              "        vertical-align: middle;\n",
              "    }\n",
              "\n",
              "    .dataframe tbody tr th {\n",
              "        vertical-align: top;\n",
              "    }\n",
              "\n",
              "    .dataframe thead th {\n",
              "        text-align: right;\n",
              "    }\n",
              "</style>\n",
              "<table border=\"1\" class=\"dataframe\">\n",
              "  <thead>\n",
              "    <tr style=\"text-align: right;\">\n",
              "      <th></th>\n",
              "      <th>latitude</th>\n",
              "      <th>longitude</th>\n",
              "      <th>sample_depth</th>\n",
              "      <th>salinity</th>\n",
              "      <th>water_temp</th>\n",
              "      <th>year</th>\n",
              "      <th>dayofyear</th>\n",
              "    </tr>\n",
              "  </thead>\n",
              "  <tbody>\n",
              "    <tr>\n",
              "      <th>42205</th>\n",
              "      <td>26.4922</td>\n",
              "      <td>-82.0515</td>\n",
              "      <td>0.5</td>\n",
              "      <td>28.000</td>\n",
              "      <td>21.00</td>\n",
              "      <td>1997</td>\n",
              "      <td>322</td>\n",
              "    </tr>\n",
              "    <tr>\n",
              "      <th>143478</th>\n",
              "      <td>25.4533</td>\n",
              "      <td>-81.2250</td>\n",
              "      <td>0.5</td>\n",
              "      <td>28.775</td>\n",
              "      <td>28.97</td>\n",
              "      <td>2017</td>\n",
              "      <td>285</td>\n",
              "    </tr>\n",
              "    <tr>\n",
              "      <th>134708</th>\n",
              "      <td>30.3273</td>\n",
              "      <td>-87.1419</td>\n",
              "      <td>1.0</td>\n",
              "      <td>32.000</td>\n",
              "      <td>22.50</td>\n",
              "      <td>2016</td>\n",
              "      <td>321</td>\n",
              "    </tr>\n",
              "    <tr>\n",
              "      <th>130588</th>\n",
              "      <td>27.4959</td>\n",
              "      <td>-82.6522</td>\n",
              "      <td>0.5</td>\n",
              "      <td>32.730</td>\n",
              "      <td>31.01</td>\n",
              "      <td>2016</td>\n",
              "      <td>179</td>\n",
              "    </tr>\n",
              "    <tr>\n",
              "      <th>12531</th>\n",
              "      <td>27.8867</td>\n",
              "      <td>-82.9417</td>\n",
              "      <td>8.2</td>\n",
              "      <td>33.100</td>\n",
              "      <td>23.00</td>\n",
              "      <td>1958</td>\n",
              "      <td>328</td>\n",
              "    </tr>\n",
              "  </tbody>\n",
              "</table>\n",
              "</div>"
            ],
            "text/plain": [
              "        latitude  longitude  sample_depth  ...  water_temp  year  dayofyear\n",
              "42205    26.4922   -82.0515           0.5  ...       21.00  1997        322\n",
              "143478   25.4533   -81.2250           0.5  ...       28.97  2017        285\n",
              "134708   30.3273   -87.1419           1.0  ...       22.50  2016        321\n",
              "130588   27.4959   -82.6522           0.5  ...       31.01  2016        179\n",
              "12531    27.8867   -82.9417           8.2  ...       23.00  1958        328\n",
              "\n",
              "[5 rows x 7 columns]"
            ]
          },
          "metadata": {
            "tags": []
          },
          "execution_count": 37
        }
      ]
    },
    {
      "cell_type": "code",
      "metadata": {
        "id": "bp0UgUGXGuhJ",
        "colab_type": "code",
        "outputId": "671b6b5c-5071-439c-9499-a2472e30e5a0",
        "colab": {
          "base_uri": "https://localhost:8080/",
          "height": 119
        }
      },
      "source": [
        "y_train.head()"
      ],
      "execution_count": 0,
      "outputs": [
        {
          "output_type": "execute_result",
          "data": {
            "text/plain": [
              "42205     1\n",
              "143478    3\n",
              "134708    3\n",
              "130588    3\n",
              "12531     3\n",
              "Name: category, dtype: int64"
            ]
          },
          "metadata": {
            "tags": []
          },
          "execution_count": 38
        }
      ]
    },
    {
      "cell_type": "code",
      "metadata": {
        "id": "OGCPrXum1H1J",
        "colab_type": "code",
        "colab": {}
      },
      "source": [
        "inputs = keras.Input(shape=(7,), name='digits')\n",
        "x = layers.Dense(64, activation='relu', name='dense_1')(inputs)\n",
        "x = layers.Dense(64, activation='relu', name='dense_2')(x)\n",
        "x = layers.Dense(64, activation='relu', name='dense_3')(x)\n",
        "x = layers.Dense(64, activation='relu', name='dense_4')(x)\n",
        "outputs = layers.Dense(5, name='predictions')(x)\n",
        "\n",
        "model = keras.Model(inputs=inputs, outputs=outputs)"
      ],
      "execution_count": 0,
      "outputs": []
    },
    {
      "cell_type": "code",
      "metadata": {
        "id": "nlTqhYb7ye3S",
        "colab_type": "code",
        "colab": {}
      },
      "source": [
        "from tensorflow import keras\n",
        "from tensorflow.keras import layers\n",
        "model = keras.Model(inputs=inputs, outputs=outputs)"
      ],
      "execution_count": 0,
      "outputs": []
    },
    {
      "cell_type": "code",
      "metadata": {
        "id": "FPDIM2npy3pQ",
        "colab_type": "code",
        "colab": {}
      },
      "source": [
        "model.compile(optimizer=keras.optimizers.RMSprop(),\n",
        "              loss=keras.losses.SparseCategoricalCrossentropy(from_logits=True),\n",
        "              metrics=['sparse_categorical_accuracy'])     \n",
        "        "
      ],
      "execution_count": 0,
      "outputs": []
    },
    {
      "cell_type": "code",
      "metadata": {
        "id": "Qxv5LSYM1bBB",
        "colab_type": "code",
        "outputId": "7cb61e51-17f1-4835-d4ec-c40d4bb78f3b",
        "colab": {
          "base_uri": "https://localhost:8080/",
          "height": 748
        }
      },
      "source": [
        "history = model.fit(x_train,y_train,\n",
        "                    batch_size=64,\n",
        "                    epochs=21)\n",
        "                    "
      ],
      "execution_count": 0,
      "outputs": [
        {
          "output_type": "stream",
          "text": [
            "Train on 49620 samples\n",
            "Epoch 1/21\n",
            "49620/49620 [==============================] - 4s 72us/sample - loss: 3.6688 - sparse_categorical_accuracy: 0.7108\n",
            "Epoch 2/21\n",
            "49620/49620 [==============================] - 2s 38us/sample - loss: 0.7824 - sparse_categorical_accuracy: 0.7976\n",
            "Epoch 3/21\n",
            "49620/49620 [==============================] - 2s 39us/sample - loss: 0.7502 - sparse_categorical_accuracy: 0.8011\n",
            "Epoch 4/21\n",
            "49620/49620 [==============================] - 2s 39us/sample - loss: 0.7400 - sparse_categorical_accuracy: 0.8023\n",
            "Epoch 5/21\n",
            "49620/49620 [==============================] - 2s 39us/sample - loss: 0.7320 - sparse_categorical_accuracy: 0.8031\n",
            "Epoch 6/21\n",
            "49620/49620 [==============================] - 2s 40us/sample - loss: 0.7293 - sparse_categorical_accuracy: 0.8032\n",
            "Epoch 7/21\n",
            "49620/49620 [==============================] - 2s 40us/sample - loss: 0.7266 - sparse_categorical_accuracy: 0.8032\n",
            "Epoch 8/21\n",
            "49620/49620 [==============================] - 2s 40us/sample - loss: 0.7241 - sparse_categorical_accuracy: 0.8032\n",
            "Epoch 9/21\n",
            "49620/49620 [==============================] - 2s 40us/sample - loss: 0.7225 - sparse_categorical_accuracy: 0.8032\n",
            "Epoch 10/21\n",
            "49620/49620 [==============================] - 2s 41us/sample - loss: 0.7224 - sparse_categorical_accuracy: 0.8032\n",
            "Epoch 11/21\n",
            "49620/49620 [==============================] - 2s 39us/sample - loss: 0.7201 - sparse_categorical_accuracy: 0.8032\n",
            "Epoch 12/21\n",
            "49620/49620 [==============================] - 2s 39us/sample - loss: 0.7178 - sparse_categorical_accuracy: 0.8032\n",
            "Epoch 13/21\n",
            "49620/49620 [==============================] - 2s 40us/sample - loss: 0.7171 - sparse_categorical_accuracy: 0.8032\n",
            "Epoch 14/21\n",
            "49620/49620 [==============================] - 2s 40us/sample - loss: 0.7167 - sparse_categorical_accuracy: 0.8032\n",
            "Epoch 15/21\n",
            "49620/49620 [==============================] - 2s 39us/sample - loss: 0.7164 - sparse_categorical_accuracy: 0.8032\n",
            "Epoch 16/21\n",
            "49620/49620 [==============================] - 2s 39us/sample - loss: 0.7148 - sparse_categorical_accuracy: 0.8032\n",
            "Epoch 17/21\n",
            "49620/49620 [==============================] - 2s 42us/sample - loss: 0.7154 - sparse_categorical_accuracy: 0.8032\n",
            "Epoch 18/21\n",
            "49620/49620 [==============================] - 2s 40us/sample - loss: 0.7152 - sparse_categorical_accuracy: 0.8032\n",
            "Epoch 19/21\n",
            "49620/49620 [==============================] - 2s 39us/sample - loss: 0.7155 - sparse_categorical_accuracy: 0.8032\n",
            "Epoch 20/21\n",
            "49620/49620 [==============================] - 2s 40us/sample - loss: 0.7141 - sparse_categorical_accuracy: 0.8032\n",
            "Epoch 21/21\n",
            "49620/49620 [==============================] - 2s 39us/sample - loss: 0.7135 - sparse_categorical_accuracy: 0.8032\n"
          ],
          "name": "stdout"
        }
      ]
    },
    {
      "cell_type": "code",
      "metadata": {
        "id": "SdXFpwyteu9R",
        "colab_type": "code",
        "outputId": "1c11bded-7c6f-4296-d001-3ef1a1ea492f",
        "colab": {
          "base_uri": "https://localhost:8080/",
          "height": 357
        }
      },
      "source": [
        "model.summary()"
      ],
      "execution_count": 0,
      "outputs": [
        {
          "output_type": "stream",
          "text": [
            "Model: \"model_3\"\n",
            "_________________________________________________________________\n",
            "Layer (type)                 Output Shape              Param #   \n",
            "=================================================================\n",
            "digits (InputLayer)          [(None, 7)]               0         \n",
            "_________________________________________________________________\n",
            "dense_1 (Dense)              (None, 64)                512       \n",
            "_________________________________________________________________\n",
            "dense_2 (Dense)              (None, 64)                4160      \n",
            "_________________________________________________________________\n",
            "dense_3 (Dense)              (None, 64)                4160      \n",
            "_________________________________________________________________\n",
            "dense_4 (Dense)              (None, 64)                4160      \n",
            "_________________________________________________________________\n",
            "predictions (Dense)          (None, 5)                 325       \n",
            "=================================================================\n",
            "Total params: 13,317\n",
            "Trainable params: 13,317\n",
            "Non-trainable params: 0\n",
            "_________________________________________________________________\n"
          ],
          "name": "stdout"
        }
      ]
    }
  ]
}